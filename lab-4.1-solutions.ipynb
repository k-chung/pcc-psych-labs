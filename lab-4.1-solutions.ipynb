{
 "cells": [
  {
   "cell_type": "markdown",
   "metadata": {},
   "source": [
    "# Purpose: \n",
    "In labs 4.1 - 4.3, you will learn how to:\n",
    "\n",
    "- create a scatter plot\n",
    "- generate outputs for correlations and regressions\n",
    "- compute p-values for chi-square tests.\n",
    "- learn how to do hypothesis testing\n",
    "- how to report the results as seen in research articles."
   ]
  },
  {
   "cell_type": "code",
   "execution_count": 12,
   "metadata": {
    "colab": {
     "base_uri": "https://localhost:8080/"
    },
    "id": "cell-hw05-5",
    "outputId": "650e430c-57c7-4de3-ca00-f79175c96dbd"
   },
   "outputs": [],
   "source": [
    "# This cell sets things up; please don't change it.\n",
    "\n",
    "# Import stuff we need\n",
    "import numpy as np\n",
    "from datascience import *\n",
    "from scipy.stats import pearsonr\n",
    "\n",
    "# These lines do some fancy plotting magic:\n",
    "%matplotlib inline\n",
    "import matplotlib.pyplot as plt\n",
    "plt.style.use('fivethirtyeight')"
   ]
  },
  {
   "cell_type": "markdown",
   "metadata": {
    "id": "vDSt3IirfvcV"
   },
   "source": [
    "# Scenario: Correlation and Simple Regression"
   ]
  },
  {
   "cell_type": "markdown",
   "metadata": {
    "id": "-e55TuWcv-Fj"
   },
   "source": [
    "Suppose a researcher is studying the relationship of sleep to mood. As an initial test, the researcher asks six students in her morning seminar two questions:\n",
    "1. How many hours did you sleep last night?\n",
    "2. How happy do you feel right now on a scale from 0 = not at all happy to\n",
    "8 = extremely happy?\n",
    "\n",
    "*Note: Since the researcher asked students how many hours they slept and what their mood is after sleeping, it is most likely the case that the researcher believes that depending on how many hours student slept will predict their mood. This will be important for when we conduct a regression. Create a scatter plot."
   ]
  },
  {
   "cell_type": "markdown",
   "metadata": {},
   "source": [
    "**Question 0:** Read in the sleep data by using the `Table().read_table()` method. Inside this method, paste the following name: sleep_data.csv"
   ]
  },
  {
   "cell_type": "code",
   "execution_count": 13,
   "metadata": {
    "colab": {
     "base_uri": "https://localhost:8080/",
     "height": 237
    },
    "id": "h2d-hseg1gdv",
    "outputId": "ac0068ad-9511-4a26-ef58-c5cdf69f758a"
   },
   "outputs": [
    {
     "data": {
      "text/html": [
       "<table border=\"1\" class=\"dataframe\">\n",
       "    <thead>\n",
       "        <tr>\n",
       "            <th>Participants</th> <th>Sleep</th> <th>Mood</th>\n",
       "        </tr>\n",
       "    </thead>\n",
       "    <tbody>\n",
       "        <tr>\n",
       "            <td>1           </td> <td>5    </td> <td>2   </td>\n",
       "        </tr>\n",
       "        <tr>\n",
       "            <td>2           </td> <td>7    </td> <td>4   </td>\n",
       "        </tr>\n",
       "        <tr>\n",
       "            <td>3           </td> <td>8    </td> <td>7   </td>\n",
       "        </tr>\n",
       "        <tr>\n",
       "            <td>4           </td> <td>6    </td> <td>2   </td>\n",
       "        </tr>\n",
       "        <tr>\n",
       "            <td>5           </td> <td>6    </td> <td>3   </td>\n",
       "        </tr>\n",
       "        <tr>\n",
       "            <td>6           </td> <td>10   </td> <td>6   </td>\n",
       "        </tr>\n",
       "    </tbody>\n",
       "</table>"
      ],
      "text/plain": [
       "<IPython.core.display.HTML object>"
      ]
     },
     "metadata": {},
     "output_type": "display_data"
    }
   ],
   "source": [
    "# Read in the data. This is like opening a CSV file in Excel.\n",
    "sleep_tbl = Table().read_table(\"sleep_data.csv\")\n",
    "\n",
    "# Show all the rows in this dataset.\n",
    "sleep_tbl.show()"
   ]
  },
  {
   "cell_type": "markdown",
   "metadata": {},
   "source": [
    "## Scatter Plot\n",
    "A scatter plot is a fundamental type of chart that shows the relationship between two different variables.\n",
    "\n",
    "The code below uses the `sleep_tbl` data table and applies the `.scatter()` function. This command is designed to draw a plot, where:\n",
    "\n",
    "- The first column name listed ('Sleep') becomes the horizontal axis (x-axis).\n",
    "\n",
    "- The second column name listed ('Mood') becomes the vertical axis (y-axis).\n",
    "\n",
    "The resulting plot will show one dot for every row in our data table, allowing us to see if people who got more sleep tended to report a higher mood score."
   ]
  },
  {
   "cell_type": "markdown",
   "metadata": {},
   "source": [
    "**Question 1:** Fill in the blanks inside the `scatter()` function. Hint: what are the names of columns in our dataset?"
   ]
  },
  {
   "cell_type": "code",
   "execution_count": 14,
   "metadata": {
    "colab": {
     "base_uri": "https://localhost:8080/",
     "height": 491
    },
    "id": "w2vU7cK4MRTI",
    "outputId": "d426245b-82e2-40f2-ba08-39fe65cc9ef9"
   },
   "outputs": [
    {
     "data": {
      "image/png": "[encoded data removed]",
      "text/plain": [
       "<Figure size 500x500 with 1 Axes>"
      ]
     },
     "metadata": {},
     "output_type": "display_data"
    }
   ],
   "source": [
    "sleep_tbl.scatter('Sleep', 'Mood')"
   ]
  },
  {
   "cell_type": "markdown",
   "metadata": {},
   "source": [
    "## Correlation Matrix\n",
    "A Correlation Matrix is simply a table that shows how strongly different variables are related to each other.\n",
    "\n",
    "- The numbers in the table are called correlation coefficients, which always fall between -1 and 1.\n",
    "- A number close to 1 (like 0.9) means the variables are strongly related and move in the same direction (e.g., as crab length increases, weight increases).\n",
    "- A number close to -1 (like -0.8) means they move in opposite directions.\n",
    "- A number close to 0 means there is no linear relationship.\n",
    "\n",
    "`np.corrcoef` calculates a value between -1 and 1 for each pair of variables you give it. This value is the **correlation coefficient**. It tells you the strength of the correlation.\n",
    "\n",
    "You give `np.corrcoef` one or more one-dimensional arrays (lists of numbers), like this: `np.corrcoef(array1, array2)`"
   ]
  },
  {
   "cell_type": "markdown",
   "metadata": {
    "id": "5WgpCf-NwxrK"
   },
   "source": [
    "**Question 2.1:** Define two variables -- `sleep` and `mood` -- which hold the Sleep and Mood columns."
   ]
  },
  {
   "cell_type": "code",
   "execution_count": 24,
   "metadata": {
    "colab": {
     "base_uri": "https://localhost:8080/"
    },
    "id": "563f6e5c",
    "outputId": "ecbca91b-01eb-4adf-aba6-8067f049d36b"
   },
   "outputs": [
    {
     "name": "stdout",
     "output_type": "stream",
     "text": [
      "Sleep Data (X): [ 5  7  8  6  6 10]\n",
      "Mood Data (Y): [2 4 7 2 3 6]\n"
     ]
    }
   ],
   "source": [
    "# First, get the data columns as arrays.\n",
    "# This is like clicking the letter at the top of a column (e.g., Column B) to select all the data in it.\n",
    "sleep = sleep_tbl.column('Sleep')\n",
    "mood = sleep_tbl.column('Mood')\n",
    "\n",
    "# Show the variables\n",
    "print(\"Sleep Data (X):\", sleep)\n",
    "print(\"Mood Data (Y):\", mood)"
   ]
  },
  {
   "cell_type": "markdown",
   "metadata": {},
   "source": [
    "**Question 2.2:** Generate the correlation matrix using `np.corrcoef`."
   ]
  },
  {
   "cell_type": "code",
   "execution_count": 16,
   "metadata": {},
   "outputs": [
    {
     "name": "stdout",
     "output_type": "stream",
     "text": [
      "[[ 1.          0.85280287]\n",
      " [ 0.85280287  1.        ]]\n"
     ]
    }
   ],
   "source": [
    "# Now, use np.corrcoef using the arrays you just defined\n",
    "corr_matrix = np.corrcoef(sleep, mood)\n",
    "\n",
    "# Print, aka show, the matrix\n",
    "print(corr_matrix)"
   ]
  },
  {
   "cell_type": "markdown",
   "metadata": {},
   "source": [
    "Notice the output.\n",
    "\n",
    "When you use it with two arrays, it returns a **2x2 matrix**:\n",
    "- The values on the diagonal (top-left and bottom-right) will always be 1. This is because a variable is perfectly correlated with itself.\n",
    "- The values in the top-right and bottom-left cells will be the **correlation coefficient (r)** between your two arrays."
   ]
  },
  {
   "cell_type": "markdown",
   "metadata": {},
   "source": [
    "## p-value\n",
    "The P-value (short for Probability value) is a number that tells you how likely it is that you got your observed result purely by random chance, assuming your initial assumption (the null hypothesis) is true.\n",
    "\n",
    "The smaller the P-value, the more compelling your evidence is.\n",
    "\n",
    "- If the P-value is very small (e.g., less than 0.05), it means your result is rare under the assumption of chance. You would reject the null hypothesis and conclude that your observation is statistically significant (it's likely a real effect).\n",
    "- If the P-value is large (e.g., greater than 0.05), it suggests your result could easily be due to random variation. You would fail to reject the null hypothesis (it's likely not a real effect)."
   ]
  },
  {
   "cell_type": "markdown",
   "metadata": {},
   "source": [
    "## Getting the p-value in Python\n",
    "While the `np.corrcoef()` function only gives you the correlation coefficient (r), you can use the `scipy.stats` library to calculate the correlation and the p-value simultaneously.\n",
    "\n",
    "The `pearsonr` function in scipy.stats is perfect for this:\n",
    "1. Extract the Data: You first need your two data columns (arrays).\n",
    "2. Run the Test: The function returns a tuple (a pair of values): the correlation coefficient (r) and the p-value (p).\n",
    "\n",
    "**Question 3:** Use `pearsonr` to report the correlation as seen in research articles (what is r and the p-value?)"
   ]
  },
  {
   "cell_type": "code",
   "execution_count": 17,
   "metadata": {
    "colab": {
     "base_uri": "https://localhost:8080/"
    },
    "id": "RC_A0rsRuN9v",
    "outputId": "2f0dc200-8f54-4c2a-85d7-c36fa0ac3999"
   },
   "outputs": [
    {
     "name": "stdout",
     "output_type": "stream",
     "text": [
      "r: 0.8528028654224418\n",
      "P-value: 0.030905834747225285\n",
      "r squared: 0.7272727272727273\n"
     ]
    }
   ],
   "source": [
    "r, p_value = pearsonr(sleep, mood)\n",
    "\n",
    "print(f\"r: {r}\")\n",
    "print(f\"P-value: {p_value}\")\n",
    "print(f\"r squared: {r**2}\")"
   ]
  },
  {
   "cell_type": "markdown",
   "metadata": {},
   "source": [
    "## Line of Best Fit\n",
    "Now that we have the correlation (r), we can find the equation for the line of best fit that describes the relationship between sleep and mood.\n",
    "\n",
    "This line is called the Regression Equation (y^​=b0​+b1​x) and allows us to predict a student's mood (y^​) given their sleep hours (x).\n",
    "\n",
    "To find this line, we need two values:\n",
    "1. Slope (b1): How much mood changes for every 1-hour change in sleep.\n",
    "2. Intercept (b0): The predicted mood when sleep hours (x) are zero.\n",
    "\n",
    "The code below uses the formulas to calculate the average (np.mean) and spread (np.std) of your data to find the exact slope and intercept values."
   ]
  },
  {
   "cell_type": "markdown",
   "metadata": {},
   "source": [
    "**Question 4.1:** Using your previously defined column variables, define the following variables which will be used to find the Regression Equation."
   ]
  },
  {
   "cell_type": "code",
   "execution_count": 21,
   "metadata": {},
   "outputs": [
    {
     "name": "stdout",
     "output_type": "stream",
     "text": [
      "std_y: 1.9148542155126762\n",
      "std_x: 1.632993161855452\n",
      "mean_y: 4.0\n",
      "mean_x: 7.0\n"
     ]
    }
   ],
   "source": [
    "std_y = np.std(mood)\n",
    "std_x = np.std(sleep)\n",
    "\n",
    "mean_y = np.mean(mood)\n",
    "mean_x = np.mean(sleep)\n",
    "\n",
    "# Show the variables you've just made\n",
    "print(f\"std_y: {std_y}\")\n",
    "print(f\"std_x: {std_x}\")\n",
    "print(f\"mean_y: {mean_y}\")\n",
    "print(f\"mean_x: {mean_x}\")"
   ]
  },
  {
   "attachments": {
    "0412d5d2-c0c5-4a72-8942-9db6b7d69ad1.png": {
     "image/png": "[encoded data removed]"
    },
    "9e338bb1-478b-47d9-a96a-10cbc627e3a6.png": {
     "image/png": "[encoded data removed]"
    }
   },
   "cell_type": "markdown",
   "metadata": {},
   "source": [
    "**Question 4.2:** Use the mean and std variables to calculate b1 and b0. See the screenshots. You're essentially rewriting the screenshot equations in Python.\n",
    "\n",
    "![image.png](attachment:9e338bb1-478b-47d9-a96a-10cbc627e3a6.png)\n",
    "![image.png](attachment:0412d5d2-c0c5-4a72-8942-9db6b7d69ad1.png)"
   ]
  },
  {
   "cell_type": "code",
   "execution_count": 23,
   "metadata": {
    "colab": {
     "base_uri": "https://localhost:8080/"
    },
    "id": "azA97nKRkSMt",
    "outputId": "a2b0d0cb-5755-44f8-8021-e235be719b4a"
   },
   "outputs": [
    {
     "name": "stdout",
     "output_type": "stream",
     "text": [
      "b1: 1.0\n",
      "b0: -3.0\n",
      "Regression Equation: ŷ = -3.0 + 1.0x\n",
      "Slope (b1): 1.0\n",
      "Intercept (b0): -3.0\n"
     ]
    }
   ],
   "source": [
    "# Put it together: calculate the slope (b1) and intercept (b0)\n",
    "b1 = r * (std_y / std_x)\n",
    "b0 = mean_y - b1 * mean_x\n",
    "\n",
    "# Show the variables you've just made\n",
    "print(f\"b1: {b1}\")\n",
    "print(f\"b0: {b0}\")\n",
    "\n",
    "print(f\"Regression Equation: ŷ = {b0} + {b1}x\")\n",
    "print(f\"Slope (b1): {b1}\")\n",
    "print(f\"Intercept (b0): {b0}\")"
   ]
  },
  {
   "cell_type": "markdown",
   "metadata": {
    "id": "nPEEJ5uWuPQd"
   },
   "source": [
    "## Assessment questions:\n",
    "\n",
    "**Question 5.1:** Determine the strength and direction of the relationship:\n",
    "\n",
    "**Answer:** A positive value of 0.852 (close to 1) represents a Strong Positive association\n",
    "    \n",
    "**Question 5.2:** Determine if the correlation is significant (alpha = .05)\n",
    "\n",
    "**Answer:** Significant\n",
    "\n",
    "**Question:** What can you conclude about sleep and mood, based on the regression output?\n",
    "\n",
    "**Answer**: The number of hours slept is a statistically **significant predictor** of mood the next day"
   ]
  },
  {
   "cell_type": "markdown",
   "metadata": {},
   "source": [
    "**Question 5.3:** What is the predicted mood if a student sleeps 13 hours?"
   ]
  },
  {
   "cell_type": "code",
   "execution_count": 26,
   "metadata": {},
   "outputs": [
    {
     "name": "stdout",
     "output_type": "stream",
     "text": [
      "Predicted Mood for 13 hours of sleep: 10.00\n"
     ]
    }
   ],
   "source": [
    "# Use the regression equation to predict mood for 13 hours of sleep (x=13)\n",
    "x = 13\n",
    "predicted_mood = b0 + b1 * x\n",
    "\n",
    "print(f\"Predicted Mood for 13 hours of sleep: {predicted_mood:.2f}\")"
   ]
  },
  {
   "attachments": {
    "56a05b63-f701-4574-8557-510da1977bd7.webp": {
     "image/webp": "[encoded data removed]"
    }
   },
   "cell_type": "markdown",
   "metadata": {},
   "source": [
    "### Congrats on finishing Lab 4.1! Now onto 4.2...\n",
    "![post-your-silly-cat-selfies-v0-9frjxiht4ehe1.webp](attachment:56a05b63-f701-4574-8557-510da1977bd7.webp)"
   ]
  }
 ],
 "metadata": {
  "colab": {
   "provenance": []
  },
  "kernelspec": {
   "display_name": "Python 3 (ipykernel)",
   "language": "python",
   "name": "python3"
  },
  "language_info": {
   "codemirror_mode": {
    "name": "ipython",
    "version": 3
   },
   "file_extension": ".py",
   "mimetype": "text/x-python",
   "name": "python",
   "nbconvert_exporter": "python",
   "pygments_lexer": "ipython3",
   "version": "3.11.13"
  }
 },
 "nbformat": 4,
 "nbformat_minor": 4
}
